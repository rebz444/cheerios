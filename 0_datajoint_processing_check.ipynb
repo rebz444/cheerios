{
 "cells": [
  {
   "cell_type": "code",
   "execution_count": 36,
   "id": "5ddd23e9",
   "metadata": {},
   "outputs": [],
   "source": [
    "import os\n",
    "\n",
    "import pandas as pd"
   ]
  },
  {
   "cell_type": "code",
   "execution_count": 37,
   "id": "9b74b18c",
   "metadata": {},
   "outputs": [],
   "source": [
    "data_dir = '/Users/rebekahzhang/data/neural_data/processing_check'\n",
    "\n",
    "progress_file_name = \"RZ_progress.csv\"  # downloaded from df pipeline by running progress_checker.py\n",
    "recording_log_name = \"recording_log.csv\"  # downloaded from recording log from google drive"
   ]
  },
  {
   "cell_type": "markdown",
   "id": "844a9a61",
   "metadata": {},
   "source": [
    "dj progress check"
   ]
  },
  {
   "cell_type": "code",
   "execution_count": 38,
   "id": "63ba79fa",
   "metadata": {},
   "outputs": [],
   "source": [
    "dj_progress = pd.read_csv(os.path.join(data_dir, progress_file_name))"
   ]
  },
  {
   "cell_type": "code",
   "execution_count": 39,
   "id": "c85b399d",
   "metadata": {},
   "outputs": [],
   "source": [
    "flow_columns = [\n",
    "    'Event', 'Synchronization', 'ProbeInsertion', 'ClusteringTask', \n",
    "    'PreProcessing', 'SIClustering', 'PostProcessing', 'SIExport', \n",
    "    'Clustering', 'CuratedClustering', 'ManualCuration', 'OfficialCuration', \n",
    "    'ApplyOfficialCuration'\n",
    "]\n",
    "dj_progress['First_X_Column'] = dj_progress[flow_columns].eq('X').idxmax(axis=1)\n",
    "dj_progress['First_X_Column'] = dj_progress['First_X_Column'].replace('Event', 'Done')"
   ]
  },
  {
   "cell_type": "code",
   "execution_count": 40,
   "id": "ba5e139e",
   "metadata": {},
   "outputs": [
    {
     "name": "stdout",
     "output_type": "stream",
     "text": [
      "First_X_Column\n",
      "Done              104\n",
      "SIClustering       11\n",
      "SIExport           10\n",
      "ManualCuration      5\n",
      "Name: count, dtype: int64\n"
     ]
    }
   ],
   "source": [
    "counts = dj_progress['First_X_Column'].value_counts()\n",
    "print(counts)"
   ]
  },
  {
   "cell_type": "markdown",
   "id": "d1c25155",
   "metadata": {},
   "source": [
    "adding progress info to recording log"
   ]
  },
  {
   "cell_type": "code",
   "execution_count": 41,
   "id": "51179fb3",
   "metadata": {},
   "outputs": [],
   "source": [
    "recording_log = pd.read_csv(os.path.join(data_dir, recording_log_name))\n",
    "recording_log = recording_log.drop(columns=['NIDAQ', 'simultaneous',\n",
    "       'probe', 'hemisphere', 'depth', 'probe treatment', 'insertion speed',\n",
    "       'resting time', 'surface', 'extraction speed', 'notes', 'rewards',\n",
    "       'num trials', 'tw', 'current status', 'final data out'])"
   ]
  },
  {
   "cell_type": "code",
   "execution_count": 42,
   "id": "1a954f2e",
   "metadata": {},
   "outputs": [
    {
     "data": {
      "application/vnd.microsoft.datawrangler.viewer.v0+json": {
       "columns": [
        {
         "name": "index",
         "rawType": "int64",
         "type": "integer"
        },
        {
         "name": "date",
         "rawType": "object",
         "type": "string"
        },
        {
         "name": "mouse",
         "rawType": "object",
         "type": "string"
        },
        {
         "name": "insertion_number",
         "rawType": "int64",
         "type": "integer"
        },
        {
         "name": "region",
         "rawType": "object",
         "type": "string"
        },
        {
         "name": "potential problems",
         "rawType": "object",
         "type": "unknown"
        },
        {
         "name": "sorting notes",
         "rawType": "object",
         "type": "unknown"
        }
       ],
       "conversionMethod": "pd.DataFrame",
       "ref": "1fb4bc7e-06b3-4c50-8bf3-2fbe40500048",
       "rows": [
        [
         "0",
         "2024-07-11",
         "RZ034",
         "0",
         "str",
         null,
         null
        ],
        [
         "1",
         "2024-07-12",
         "RZ034",
         "0",
         "str",
         "D drive ran out of space",
         null
        ],
        [
         "2",
         "2024-07-13",
         "RZ034",
         "0",
         "v1",
         null,
         "assertion error when lauching phy"
        ],
        [
         "3",
         "2024-07-13",
         "RZ034",
         "1",
         "str",
         null,
         "should be all good now"
        ],
        [
         "4",
         "2024-07-14",
         "RZ034",
         "0",
         "v1",
         null,
         "invalid sorting key"
        ],
        [
         "5",
         "2024-07-14",
         "RZ034",
         "1",
         "str",
         null,
         null
        ],
        [
         "6",
         "2024-07-11",
         "RZ036",
         "0",
         "str",
         null,
         null
        ],
        [
         "7",
         "2024-07-12",
         "RZ036",
         "0",
         "v1",
         null,
         null
        ],
        [
         "8",
         "2024-07-12",
         "RZ036",
         "1",
         "str",
         null,
         null
        ],
        [
         "9",
         "2024-07-13",
         "RZ036",
         "0",
         "v1",
         null,
         "assertion error when lauching phy"
        ],
        [
         "10",
         "2024-07-13",
         "RZ036",
         "1",
         "str",
         null,
         null
        ],
        [
         "11",
         "2024-07-14",
         "RZ036",
         "0",
         "v1",
         null,
         null
        ],
        [
         "12",
         "2024-07-14",
         "RZ036",
         "1",
         "str",
         null,
         "should be all good now"
        ],
        [
         "13",
         "2024-07-16",
         "RZ037",
         "0",
         "v1",
         null,
         null
        ],
        [
         "14",
         "2024-07-16",
         "RZ037",
         "1",
         "str",
         null,
         null
        ],
        [
         "15",
         "2024-07-17",
         "RZ037",
         "0",
         "v1",
         null,
         null
        ],
        [
         "16",
         "2024-07-17",
         "RZ037",
         "1",
         "str",
         null,
         null
        ],
        [
         "17",
         "2024-07-18",
         "RZ037",
         "0",
         "v1",
         null,
         null
        ],
        [
         "18",
         "2024-07-18",
         "RZ037",
         "1",
         "str",
         "ran as RZ040 first. data delelted and ran again",
         null
        ],
        [
         "19",
         "2024-07-19",
         "RZ037",
         "0",
         "str",
         "only noise. deleted",
         null
        ],
        [
         "20",
         "2024-07-16",
         "RZ038",
         "0",
         "v1",
         null,
         null
        ],
        [
         "21",
         "2024-07-16",
         "RZ038",
         "1",
         "str",
         null,
         null
        ],
        [
         "22",
         "2024-07-17",
         "RZ038",
         "0",
         "v1",
         null,
         null
        ],
        [
         "23",
         "2024-07-17",
         "RZ038",
         "1",
         "str",
         "probe 1 failed",
         "assertion error when lauching phy"
        ],
        [
         "24",
         "2024-07-18",
         "RZ038",
         "0",
         "v1",
         null,
         null
        ],
        [
         "25",
         "2024-07-18",
         "RZ038",
         "1",
         "str",
         null,
         null
        ],
        [
         "26",
         "2024-07-19",
         "RZ038",
         "0",
         "str",
         null,
         null
        ],
        [
         "27",
         "2024-07-16",
         "RZ039",
         "0",
         "str",
         "D drive out of space; saved name as 038 initially",
         null
        ],
        [
         "28",
         "2024-07-17",
         "RZ039",
         "0",
         "str",
         null,
         null
        ],
        [
         "29",
         "2024-07-18",
         "RZ039",
         "0",
         "str",
         null,
         null
        ],
        [
         "30",
         "2024-07-19",
         "RZ039",
         "0",
         "str",
         null,
         null
        ],
        [
         "31",
         "2024-06-05",
         "RZ040",
         "0",
         "v1",
         null,
         "exp3"
        ],
        [
         "32",
         "2024-06-05",
         "RZ040",
         "1",
         "str",
         null,
         "exp3"
        ],
        [
         "33",
         "2024-06-06",
         "RZ040",
         "0",
         "v1",
         null,
         "exp3"
        ],
        [
         "34",
         "2024-06-06",
         "RZ040",
         "1",
         "str",
         null,
         "exp3"
        ],
        [
         "35",
         "2024-06-18",
         "RZ041",
         "0",
         "v1",
         null,
         "exp3"
        ],
        [
         "36",
         "2024-06-18",
         "RZ041",
         "1",
         "str",
         null,
         "exp3"
        ],
        [
         "37",
         "2024-06-19",
         "RZ041",
         "0",
         "str",
         null,
         "exp3"
        ],
        [
         "38",
         "2024-06-20",
         "RZ041",
         "0",
         "str",
         null,
         "exp3"
        ],
        [
         "39",
         "2024-06-18",
         "RZ042",
         "0",
         "v1",
         null,
         "exp3"
        ],
        [
         "40",
         "2024-06-18",
         "RZ042",
         "1",
         "str",
         null,
         "exp3"
        ],
        [
         "41",
         "2024-06-20",
         "RZ042",
         "0",
         "str",
         null,
         "exp3"
        ],
        [
         "42",
         "2024-05-10",
         "RZ043",
         "0",
         "v1",
         null,
         "exp3"
        ],
        [
         "43",
         "2024-05-10",
         "RZ043",
         "1",
         "str",
         null,
         "exp3"
        ],
        [
         "44",
         "2024-05-25",
         "RZ044",
         "0",
         "v1",
         null,
         "exp3"
        ],
        [
         "45",
         "2024-05-25",
         "RZ044",
         "1",
         "str",
         null,
         "exp3"
        ],
        [
         "46",
         "2024-05-26",
         "RZ044",
         "0",
         "v1",
         null,
         "exp3"
        ],
        [
         "47",
         "2024-05-26",
         "RZ044",
         "1",
         "str",
         null,
         "exp3"
        ],
        [
         "48",
         "2024-05-28",
         "RZ044",
         "0",
         "v1",
         null,
         "exp3"
        ],
        [
         "49",
         "2024-05-28",
         "RZ044",
         "1",
         "str",
         null,
         "exp3"
        ]
       ],
       "shape": {
        "columns": 6,
        "rows": 171
       }
      },
      "text/html": [
       "<div>\n",
       "<style scoped>\n",
       "    .dataframe tbody tr th:only-of-type {\n",
       "        vertical-align: middle;\n",
       "    }\n",
       "\n",
       "    .dataframe tbody tr th {\n",
       "        vertical-align: top;\n",
       "    }\n",
       "\n",
       "    .dataframe thead th {\n",
       "        text-align: right;\n",
       "    }\n",
       "</style>\n",
       "<table border=\"1\" class=\"dataframe\">\n",
       "  <thead>\n",
       "    <tr style=\"text-align: right;\">\n",
       "      <th></th>\n",
       "      <th>date</th>\n",
       "      <th>mouse</th>\n",
       "      <th>insertion_number</th>\n",
       "      <th>region</th>\n",
       "      <th>potential problems</th>\n",
       "      <th>sorting notes</th>\n",
       "    </tr>\n",
       "  </thead>\n",
       "  <tbody>\n",
       "    <tr>\n",
       "      <th>0</th>\n",
       "      <td>2024-07-11</td>\n",
       "      <td>RZ034</td>\n",
       "      <td>0</td>\n",
       "      <td>str</td>\n",
       "      <td>NaN</td>\n",
       "      <td>NaN</td>\n",
       "    </tr>\n",
       "    <tr>\n",
       "      <th>1</th>\n",
       "      <td>2024-07-12</td>\n",
       "      <td>RZ034</td>\n",
       "      <td>0</td>\n",
       "      <td>str</td>\n",
       "      <td>D drive ran out of space</td>\n",
       "      <td>NaN</td>\n",
       "    </tr>\n",
       "    <tr>\n",
       "      <th>2</th>\n",
       "      <td>2024-07-13</td>\n",
       "      <td>RZ034</td>\n",
       "      <td>0</td>\n",
       "      <td>v1</td>\n",
       "      <td>NaN</td>\n",
       "      <td>assertion error when lauching phy</td>\n",
       "    </tr>\n",
       "    <tr>\n",
       "      <th>3</th>\n",
       "      <td>2024-07-13</td>\n",
       "      <td>RZ034</td>\n",
       "      <td>1</td>\n",
       "      <td>str</td>\n",
       "      <td>NaN</td>\n",
       "      <td>should be all good now</td>\n",
       "    </tr>\n",
       "    <tr>\n",
       "      <th>4</th>\n",
       "      <td>2024-07-14</td>\n",
       "      <td>RZ034</td>\n",
       "      <td>0</td>\n",
       "      <td>v1</td>\n",
       "      <td>NaN</td>\n",
       "      <td>invalid sorting key</td>\n",
       "    </tr>\n",
       "    <tr>\n",
       "      <th>...</th>\n",
       "      <td>...</td>\n",
       "      <td>...</td>\n",
       "      <td>...</td>\n",
       "      <td>...</td>\n",
       "      <td>...</td>\n",
       "      <td>...</td>\n",
       "    </tr>\n",
       "    <tr>\n",
       "      <th>166</th>\n",
       "      <td>2025-02-12</td>\n",
       "      <td>RZ070</td>\n",
       "      <td>1</td>\n",
       "      <td>str</td>\n",
       "      <td>pump wasnt properly grounded</td>\n",
       "      <td>NaN</td>\n",
       "    </tr>\n",
       "    <tr>\n",
       "      <th>167</th>\n",
       "      <td>2025-02-13</td>\n",
       "      <td>RZ070</td>\n",
       "      <td>0</td>\n",
       "      <td>v1</td>\n",
       "      <td>NaN</td>\n",
       "      <td>no bug, new phy</td>\n",
       "    </tr>\n",
       "    <tr>\n",
       "      <th>168</th>\n",
       "      <td>2025-02-13</td>\n",
       "      <td>RZ070</td>\n",
       "      <td>1</td>\n",
       "      <td>str</td>\n",
       "      <td>NaN</td>\n",
       "      <td>NaN</td>\n",
       "    </tr>\n",
       "    <tr>\n",
       "      <th>169</th>\n",
       "      <td>2025-02-14</td>\n",
       "      <td>RZ070</td>\n",
       "      <td>0</td>\n",
       "      <td>v1</td>\n",
       "      <td>NaN</td>\n",
       "      <td>no bug, new phy</td>\n",
       "    </tr>\n",
       "    <tr>\n",
       "      <th>170</th>\n",
       "      <td>2025-02-14</td>\n",
       "      <td>RZ070</td>\n",
       "      <td>1</td>\n",
       "      <td>str</td>\n",
       "      <td>NaN</td>\n",
       "      <td>NaN</td>\n",
       "    </tr>\n",
       "  </tbody>\n",
       "</table>\n",
       "<p>171 rows × 6 columns</p>\n",
       "</div>"
      ],
      "text/plain": [
       "           date  mouse  insertion_number region            potential problems  \\\n",
       "0    2024-07-11  RZ034                 0    str                           NaN   \n",
       "1    2024-07-12  RZ034                 0    str      D drive ran out of space   \n",
       "2    2024-07-13  RZ034                 0     v1                           NaN   \n",
       "3    2024-07-13  RZ034                 1    str                           NaN   \n",
       "4    2024-07-14  RZ034                 0     v1                           NaN   \n",
       "..          ...    ...               ...    ...                           ...   \n",
       "166  2025-02-12  RZ070                 1    str  pump wasnt properly grounded   \n",
       "167  2025-02-13  RZ070                 0     v1                           NaN   \n",
       "168  2025-02-13  RZ070                 1    str                           NaN   \n",
       "169  2025-02-14  RZ070                 0     v1                           NaN   \n",
       "170  2025-02-14  RZ070                 1    str                           NaN   \n",
       "\n",
       "                         sorting notes  \n",
       "0                                  NaN  \n",
       "1                                  NaN  \n",
       "2    assertion error when lauching phy  \n",
       "3               should be all good now  \n",
       "4                  invalid sorting key  \n",
       "..                                 ...  \n",
       "166                                NaN  \n",
       "167                    no bug, new phy  \n",
       "168                                NaN  \n",
       "169                    no bug, new phy  \n",
       "170                                NaN  \n",
       "\n",
       "[171 rows x 6 columns]"
      ]
     },
     "execution_count": 42,
     "metadata": {},
     "output_type": "execute_result"
    }
   ],
   "source": [
    "recording_log"
   ]
  },
  {
   "cell_type": "code",
   "execution_count": 43,
   "id": "3c01283f",
   "metadata": {},
   "outputs": [],
   "source": [
    "dj_progress['date'] = pd.to_datetime(dj_progress['session_datetime']).dt.date\n",
    "dj_progress['mouse'] = dj_progress['subject']"
   ]
  },
  {
   "cell_type": "code",
   "execution_count": 44,
   "id": "073c0cb9",
   "metadata": {},
   "outputs": [],
   "source": [
    "# Convert 'date' to datetime (handles strings like '2023-10-01' or mixed formats)\n",
    "recording_log['date'] = pd.to_datetime(recording_log['date'], errors='coerce')\n",
    "dj_progress['date'] = pd.to_datetime(dj_progress['date'], errors='coerce')"
   ]
  },
  {
   "cell_type": "code",
   "execution_count": 45,
   "id": "5c95c0b4",
   "metadata": {},
   "outputs": [],
   "source": [
    "# Convert to integer (if no decimals)\n",
    "recording_log['insertion_number'] = recording_log['insertion_number'].astype(int)\n",
    "dj_progress['insertion_number'] = dj_progress['insertion_number'].astype(int)"
   ]
  },
  {
   "cell_type": "code",
   "execution_count": 46,
   "id": "30acf47a",
   "metadata": {},
   "outputs": [],
   "source": [
    "# Merge with left join on 3 key columns\n",
    "merged_df = recording_log.merge(\n",
    "    dj_progress[['mouse', 'date', 'insertion_number', 'First_X_Column']],\n",
    "    on=['mouse', 'date', 'insertion_number'],\n",
    "    how='left'\n",
    ")\n",
    "\n",
    "# Label unmatched rows\n",
    "merged_df['First_X_Column'] = merged_df['First_X_Column'].fillna('not_uploaded')"
   ]
  },
  {
   "cell_type": "code",
   "execution_count": 47,
   "id": "1ba3221a",
   "metadata": {},
   "outputs": [
    {
     "data": {
      "application/vnd.microsoft.datawrangler.viewer.v0+json": {
       "columns": [
        {
         "name": "index",
         "rawType": "int64",
         "type": "integer"
        },
        {
         "name": "date",
         "rawType": "datetime64[ns]",
         "type": "datetime"
        },
        {
         "name": "mouse",
         "rawType": "object",
         "type": "string"
        },
        {
         "name": "insertion_number",
         "rawType": "int64",
         "type": "integer"
        },
        {
         "name": "region",
         "rawType": "object",
         "type": "string"
        },
        {
         "name": "potential problems",
         "rawType": "object",
         "type": "unknown"
        },
        {
         "name": "sorting notes",
         "rawType": "object",
         "type": "unknown"
        },
        {
         "name": "First_X_Column",
         "rawType": "object",
         "type": "string"
        }
       ],
       "conversionMethod": "pd.DataFrame",
       "ref": "a5d00d5b-4b7b-46a1-9bc6-1e0a335e86ae",
       "rows": [
        [
         "0",
         "2024-07-11 00:00:00",
         "RZ034",
         "0",
         "str",
         null,
         null,
         "SIClustering"
        ],
        [
         "1",
         "2024-07-12 00:00:00",
         "RZ034",
         "0",
         "str",
         "D drive ran out of space",
         null,
         "not_uploaded"
        ],
        [
         "2",
         "2024-07-13 00:00:00",
         "RZ034",
         "0",
         "v1",
         null,
         "assertion error when lauching phy",
         "ManualCuration"
        ],
        [
         "3",
         "2024-07-13 00:00:00",
         "RZ034",
         "1",
         "str",
         null,
         "should be all good now",
         "Done"
        ],
        [
         "4",
         "2024-07-14 00:00:00",
         "RZ034",
         "0",
         "v1",
         null,
         "invalid sorting key",
         "SIExport"
        ],
        [
         "5",
         "2024-07-14 00:00:00",
         "RZ034",
         "1",
         "str",
         null,
         null,
         "Done"
        ],
        [
         "6",
         "2024-07-11 00:00:00",
         "RZ036",
         "0",
         "str",
         null,
         null,
         "not_uploaded"
        ],
        [
         "7",
         "2024-07-12 00:00:00",
         "RZ036",
         "0",
         "v1",
         null,
         null,
         "Done"
        ],
        [
         "8",
         "2024-07-12 00:00:00",
         "RZ036",
         "1",
         "str",
         null,
         null,
         "Done"
        ],
        [
         "9",
         "2024-07-13 00:00:00",
         "RZ036",
         "0",
         "v1",
         null,
         "assertion error when lauching phy",
         "ManualCuration"
        ],
        [
         "10",
         "2024-07-13 00:00:00",
         "RZ036",
         "1",
         "str",
         null,
         null,
         "Done"
        ],
        [
         "11",
         "2024-07-14 00:00:00",
         "RZ036",
         "0",
         "v1",
         null,
         null,
         "SIClustering"
        ],
        [
         "12",
         "2024-07-14 00:00:00",
         "RZ036",
         "1",
         "str",
         null,
         "should be all good now",
         "Done"
        ],
        [
         "13",
         "2024-07-16 00:00:00",
         "RZ037",
         "0",
         "v1",
         null,
         null,
         "Done"
        ],
        [
         "14",
         "2024-07-16 00:00:00",
         "RZ037",
         "1",
         "str",
         null,
         null,
         "Done"
        ],
        [
         "15",
         "2024-07-17 00:00:00",
         "RZ037",
         "0",
         "v1",
         null,
         null,
         "SIExport"
        ],
        [
         "16",
         "2024-07-17 00:00:00",
         "RZ037",
         "1",
         "str",
         null,
         null,
         "Done"
        ],
        [
         "17",
         "2024-07-18 00:00:00",
         "RZ037",
         "0",
         "v1",
         null,
         null,
         "Done"
        ],
        [
         "18",
         "2024-07-18 00:00:00",
         "RZ037",
         "1",
         "str",
         "ran as RZ040 first. data delelted and ran again",
         null,
         "Done"
        ],
        [
         "19",
         "2024-07-19 00:00:00",
         "RZ037",
         "0",
         "str",
         "only noise. deleted",
         null,
         "not_uploaded"
        ],
        [
         "20",
         "2024-07-16 00:00:00",
         "RZ038",
         "0",
         "v1",
         null,
         null,
         "SIExport"
        ],
        [
         "21",
         "2024-07-16 00:00:00",
         "RZ038",
         "1",
         "str",
         null,
         null,
         "SIExport"
        ],
        [
         "22",
         "2024-07-17 00:00:00",
         "RZ038",
         "0",
         "v1",
         null,
         null,
         "Done"
        ],
        [
         "23",
         "2024-07-17 00:00:00",
         "RZ038",
         "1",
         "str",
         "probe 1 failed",
         "assertion error when lauching phy",
         "ManualCuration"
        ],
        [
         "24",
         "2024-07-18 00:00:00",
         "RZ038",
         "0",
         "v1",
         null,
         null,
         "SIClustering"
        ],
        [
         "25",
         "2024-07-18 00:00:00",
         "RZ038",
         "1",
         "str",
         null,
         null,
         "Done"
        ],
        [
         "26",
         "2024-07-19 00:00:00",
         "RZ038",
         "0",
         "str",
         null,
         null,
         "Done"
        ],
        [
         "27",
         "2024-07-16 00:00:00",
         "RZ039",
         "0",
         "str",
         "D drive out of space; saved name as 038 initially",
         null,
         "not_uploaded"
        ],
        [
         "28",
         "2024-07-17 00:00:00",
         "RZ039",
         "0",
         "str",
         null,
         null,
         "Done"
        ],
        [
         "29",
         "2024-07-18 00:00:00",
         "RZ039",
         "0",
         "str",
         null,
         null,
         "not_uploaded"
        ],
        [
         "30",
         "2024-07-19 00:00:00",
         "RZ039",
         "0",
         "str",
         null,
         null,
         "not_uploaded"
        ],
        [
         "31",
         "2024-06-05 00:00:00",
         "RZ040",
         "0",
         "v1",
         null,
         "exp3",
         "not_uploaded"
        ],
        [
         "32",
         "2024-06-05 00:00:00",
         "RZ040",
         "1",
         "str",
         null,
         "exp3",
         "not_uploaded"
        ],
        [
         "33",
         "2024-06-06 00:00:00",
         "RZ040",
         "0",
         "v1",
         null,
         "exp3",
         "not_uploaded"
        ],
        [
         "34",
         "2024-06-06 00:00:00",
         "RZ040",
         "1",
         "str",
         null,
         "exp3",
         "not_uploaded"
        ],
        [
         "35",
         "2024-06-18 00:00:00",
         "RZ041",
         "0",
         "v1",
         null,
         "exp3",
         "not_uploaded"
        ],
        [
         "36",
         "2024-06-18 00:00:00",
         "RZ041",
         "1",
         "str",
         null,
         "exp3",
         "not_uploaded"
        ],
        [
         "37",
         "2024-06-19 00:00:00",
         "RZ041",
         "0",
         "str",
         null,
         "exp3",
         "not_uploaded"
        ],
        [
         "38",
         "2024-06-20 00:00:00",
         "RZ041",
         "0",
         "str",
         null,
         "exp3",
         "not_uploaded"
        ],
        [
         "39",
         "2024-06-18 00:00:00",
         "RZ042",
         "0",
         "v1",
         null,
         "exp3",
         "not_uploaded"
        ],
        [
         "40",
         "2024-06-18 00:00:00",
         "RZ042",
         "1",
         "str",
         null,
         "exp3",
         "not_uploaded"
        ],
        [
         "41",
         "2024-06-20 00:00:00",
         "RZ042",
         "0",
         "str",
         null,
         "exp3",
         "not_uploaded"
        ],
        [
         "42",
         "2024-05-10 00:00:00",
         "RZ043",
         "0",
         "v1",
         null,
         "exp3",
         "not_uploaded"
        ],
        [
         "43",
         "2024-05-10 00:00:00",
         "RZ043",
         "1",
         "str",
         null,
         "exp3",
         "not_uploaded"
        ],
        [
         "44",
         "2024-05-25 00:00:00",
         "RZ044",
         "0",
         "v1",
         null,
         "exp3",
         "not_uploaded"
        ],
        [
         "45",
         "2024-05-25 00:00:00",
         "RZ044",
         "1",
         "str",
         null,
         "exp3",
         "not_uploaded"
        ],
        [
         "46",
         "2024-05-26 00:00:00",
         "RZ044",
         "0",
         "v1",
         null,
         "exp3",
         "not_uploaded"
        ],
        [
         "47",
         "2024-05-26 00:00:00",
         "RZ044",
         "1",
         "str",
         null,
         "exp3",
         "not_uploaded"
        ],
        [
         "48",
         "2024-05-28 00:00:00",
         "RZ044",
         "0",
         "v1",
         null,
         "exp3",
         "not_uploaded"
        ],
        [
         "49",
         "2024-05-28 00:00:00",
         "RZ044",
         "1",
         "str",
         null,
         "exp3",
         "not_uploaded"
        ]
       ],
       "shape": {
        "columns": 7,
        "rows": 171
       }
      },
      "text/html": [
       "<div>\n",
       "<style scoped>\n",
       "    .dataframe tbody tr th:only-of-type {\n",
       "        vertical-align: middle;\n",
       "    }\n",
       "\n",
       "    .dataframe tbody tr th {\n",
       "        vertical-align: top;\n",
       "    }\n",
       "\n",
       "    .dataframe thead th {\n",
       "        text-align: right;\n",
       "    }\n",
       "</style>\n",
       "<table border=\"1\" class=\"dataframe\">\n",
       "  <thead>\n",
       "    <tr style=\"text-align: right;\">\n",
       "      <th></th>\n",
       "      <th>date</th>\n",
       "      <th>mouse</th>\n",
       "      <th>insertion_number</th>\n",
       "      <th>region</th>\n",
       "      <th>potential problems</th>\n",
       "      <th>sorting notes</th>\n",
       "      <th>First_X_Column</th>\n",
       "    </tr>\n",
       "  </thead>\n",
       "  <tbody>\n",
       "    <tr>\n",
       "      <th>0</th>\n",
       "      <td>2024-07-11</td>\n",
       "      <td>RZ034</td>\n",
       "      <td>0</td>\n",
       "      <td>str</td>\n",
       "      <td>NaN</td>\n",
       "      <td>NaN</td>\n",
       "      <td>SIClustering</td>\n",
       "    </tr>\n",
       "    <tr>\n",
       "      <th>1</th>\n",
       "      <td>2024-07-12</td>\n",
       "      <td>RZ034</td>\n",
       "      <td>0</td>\n",
       "      <td>str</td>\n",
       "      <td>D drive ran out of space</td>\n",
       "      <td>NaN</td>\n",
       "      <td>not_uploaded</td>\n",
       "    </tr>\n",
       "    <tr>\n",
       "      <th>2</th>\n",
       "      <td>2024-07-13</td>\n",
       "      <td>RZ034</td>\n",
       "      <td>0</td>\n",
       "      <td>v1</td>\n",
       "      <td>NaN</td>\n",
       "      <td>assertion error when lauching phy</td>\n",
       "      <td>ManualCuration</td>\n",
       "    </tr>\n",
       "    <tr>\n",
       "      <th>3</th>\n",
       "      <td>2024-07-13</td>\n",
       "      <td>RZ034</td>\n",
       "      <td>1</td>\n",
       "      <td>str</td>\n",
       "      <td>NaN</td>\n",
       "      <td>should be all good now</td>\n",
       "      <td>Done</td>\n",
       "    </tr>\n",
       "    <tr>\n",
       "      <th>4</th>\n",
       "      <td>2024-07-14</td>\n",
       "      <td>RZ034</td>\n",
       "      <td>0</td>\n",
       "      <td>v1</td>\n",
       "      <td>NaN</td>\n",
       "      <td>invalid sorting key</td>\n",
       "      <td>SIExport</td>\n",
       "    </tr>\n",
       "    <tr>\n",
       "      <th>...</th>\n",
       "      <td>...</td>\n",
       "      <td>...</td>\n",
       "      <td>...</td>\n",
       "      <td>...</td>\n",
       "      <td>...</td>\n",
       "      <td>...</td>\n",
       "      <td>...</td>\n",
       "    </tr>\n",
       "    <tr>\n",
       "      <th>166</th>\n",
       "      <td>2025-02-12</td>\n",
       "      <td>RZ070</td>\n",
       "      <td>1</td>\n",
       "      <td>str</td>\n",
       "      <td>pump wasnt properly grounded</td>\n",
       "      <td>NaN</td>\n",
       "      <td>Done</td>\n",
       "    </tr>\n",
       "    <tr>\n",
       "      <th>167</th>\n",
       "      <td>2025-02-13</td>\n",
       "      <td>RZ070</td>\n",
       "      <td>0</td>\n",
       "      <td>v1</td>\n",
       "      <td>NaN</td>\n",
       "      <td>no bug, new phy</td>\n",
       "      <td>Done</td>\n",
       "    </tr>\n",
       "    <tr>\n",
       "      <th>168</th>\n",
       "      <td>2025-02-13</td>\n",
       "      <td>RZ070</td>\n",
       "      <td>1</td>\n",
       "      <td>str</td>\n",
       "      <td>NaN</td>\n",
       "      <td>NaN</td>\n",
       "      <td>Done</td>\n",
       "    </tr>\n",
       "    <tr>\n",
       "      <th>169</th>\n",
       "      <td>2025-02-14</td>\n",
       "      <td>RZ070</td>\n",
       "      <td>0</td>\n",
       "      <td>v1</td>\n",
       "      <td>NaN</td>\n",
       "      <td>no bug, new phy</td>\n",
       "      <td>Done</td>\n",
       "    </tr>\n",
       "    <tr>\n",
       "      <th>170</th>\n",
       "      <td>2025-02-14</td>\n",
       "      <td>RZ070</td>\n",
       "      <td>1</td>\n",
       "      <td>str</td>\n",
       "      <td>NaN</td>\n",
       "      <td>NaN</td>\n",
       "      <td>Done</td>\n",
       "    </tr>\n",
       "  </tbody>\n",
       "</table>\n",
       "<p>171 rows × 7 columns</p>\n",
       "</div>"
      ],
      "text/plain": [
       "          date  mouse  insertion_number region            potential problems  \\\n",
       "0   2024-07-11  RZ034                 0    str                           NaN   \n",
       "1   2024-07-12  RZ034                 0    str      D drive ran out of space   \n",
       "2   2024-07-13  RZ034                 0     v1                           NaN   \n",
       "3   2024-07-13  RZ034                 1    str                           NaN   \n",
       "4   2024-07-14  RZ034                 0     v1                           NaN   \n",
       "..         ...    ...               ...    ...                           ...   \n",
       "166 2025-02-12  RZ070                 1    str  pump wasnt properly grounded   \n",
       "167 2025-02-13  RZ070                 0     v1                           NaN   \n",
       "168 2025-02-13  RZ070                 1    str                           NaN   \n",
       "169 2025-02-14  RZ070                 0     v1                           NaN   \n",
       "170 2025-02-14  RZ070                 1    str                           NaN   \n",
       "\n",
       "                         sorting notes  First_X_Column  \n",
       "0                                  NaN    SIClustering  \n",
       "1                                  NaN    not_uploaded  \n",
       "2    assertion error when lauching phy  ManualCuration  \n",
       "3               should be all good now            Done  \n",
       "4                  invalid sorting key        SIExport  \n",
       "..                                 ...             ...  \n",
       "166                                NaN            Done  \n",
       "167                    no bug, new phy            Done  \n",
       "168                                NaN            Done  \n",
       "169                    no bug, new phy            Done  \n",
       "170                                NaN            Done  \n",
       "\n",
       "[171 rows x 7 columns]"
      ]
     },
     "execution_count": 47,
     "metadata": {},
     "output_type": "execute_result"
    }
   ],
   "source": [
    "merged_df"
   ]
  },
  {
   "cell_type": "code",
   "execution_count": 48,
   "id": "f59284a2",
   "metadata": {},
   "outputs": [],
   "source": [
    "merged_df.to_csv(os.path.join(data_dir, 'sessions_cross_checked.csv'))"
   ]
  }
 ],
 "metadata": {
  "kernelspec": {
   "display_name": "CHEERIOS",
   "language": "python",
   "name": "python3"
  },
  "language_info": {
   "codemirror_mode": {
    "name": "ipython",
    "version": 3
   },
   "file_extension": ".py",
   "mimetype": "text/x-python",
   "name": "python",
   "nbconvert_exporter": "python",
   "pygments_lexer": "ipython3",
   "version": "3.13.2"
  }
 },
 "nbformat": 4,
 "nbformat_minor": 5
}
